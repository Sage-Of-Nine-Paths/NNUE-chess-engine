{
  "nbformat": 4,
  "nbformat_minor": 0,
  "metadata": {
    "colab": {
      "provenance": []
    },
    "kernelspec": {
      "name": "python3",
      "display_name": "Python 3"
    },
    "language_info": {
      "name": "python"
    }
  },
  "cells": [
    {
      "cell_type": "code",
      "execution_count": 3,
      "metadata": {
        "colab": {
          "base_uri": "https://localhost:8080/"
        },
        "id": "OKzO4NWOaZuX",
        "outputId": "3b098187-db1f-4232-ffc3-075c53df2d85"
      },
      "outputs": [
        {
          "output_type": "stream",
          "name": "stdout",
          "text": [
            "Requirement already satisfied: python-chess in /usr/local/lib/python3.11/dist-packages (1.999)\n",
            "Collecting stockfish\n",
            "  Downloading stockfish-3.28.0-py3-none-any.whl.metadata (12 kB)\n",
            "Requirement already satisfied: torch in /usr/local/lib/python3.11/dist-packages (2.6.0+cu124)\n",
            "Requirement already satisfied: chess<2,>=1 in /usr/local/lib/python3.11/dist-packages (from python-chess) (1.11.2)\n",
            "Requirement already satisfied: filelock in /usr/local/lib/python3.11/dist-packages (from torch) (3.18.0)\n",
            "Requirement already satisfied: typing-extensions>=4.10.0 in /usr/local/lib/python3.11/dist-packages (from torch) (4.13.2)\n",
            "Requirement already satisfied: networkx in /usr/local/lib/python3.11/dist-packages (from torch) (3.4.2)\n",
            "Requirement already satisfied: jinja2 in /usr/local/lib/python3.11/dist-packages (from torch) (3.1.6)\n",
            "Requirement already satisfied: fsspec in /usr/local/lib/python3.11/dist-packages (from torch) (2025.3.2)\n",
            "Requirement already satisfied: nvidia-cuda-nvrtc-cu12==12.4.127 in /usr/local/lib/python3.11/dist-packages (from torch) (12.4.127)\n",
            "Requirement already satisfied: nvidia-cuda-runtime-cu12==12.4.127 in /usr/local/lib/python3.11/dist-packages (from torch) (12.4.127)\n",
            "Requirement already satisfied: nvidia-cuda-cupti-cu12==12.4.127 in /usr/local/lib/python3.11/dist-packages (from torch) (12.4.127)\n",
            "Requirement already satisfied: nvidia-cudnn-cu12==9.1.0.70 in /usr/local/lib/python3.11/dist-packages (from torch) (9.1.0.70)\n",
            "Requirement already satisfied: nvidia-cublas-cu12==12.4.5.8 in /usr/local/lib/python3.11/dist-packages (from torch) (12.4.5.8)\n",
            "Requirement already satisfied: nvidia-cufft-cu12==11.2.1.3 in /usr/local/lib/python3.11/dist-packages (from torch) (11.2.1.3)\n",
            "Requirement already satisfied: nvidia-curand-cu12==10.3.5.147 in /usr/local/lib/python3.11/dist-packages (from torch) (10.3.5.147)\n",
            "Requirement already satisfied: nvidia-cusolver-cu12==11.6.1.9 in /usr/local/lib/python3.11/dist-packages (from torch) (11.6.1.9)\n",
            "Requirement already satisfied: nvidia-cusparse-cu12==12.3.1.170 in /usr/local/lib/python3.11/dist-packages (from torch) (12.3.1.170)\n",
            "Requirement already satisfied: nvidia-cusparselt-cu12==0.6.2 in /usr/local/lib/python3.11/dist-packages (from torch) (0.6.2)\n",
            "Requirement already satisfied: nvidia-nccl-cu12==2.21.5 in /usr/local/lib/python3.11/dist-packages (from torch) (2.21.5)\n",
            "Requirement already satisfied: nvidia-nvtx-cu12==12.4.127 in /usr/local/lib/python3.11/dist-packages (from torch) (12.4.127)\n",
            "Requirement already satisfied: nvidia-nvjitlink-cu12==12.4.127 in /usr/local/lib/python3.11/dist-packages (from torch) (12.4.127)\n",
            "Requirement already satisfied: triton==3.2.0 in /usr/local/lib/python3.11/dist-packages (from torch) (3.2.0)\n",
            "Requirement already satisfied: sympy==1.13.1 in /usr/local/lib/python3.11/dist-packages (from torch) (1.13.1)\n",
            "Requirement already satisfied: mpmath<1.4,>=1.1.0 in /usr/local/lib/python3.11/dist-packages (from sympy==1.13.1->torch) (1.3.0)\n",
            "Requirement already satisfied: MarkupSafe>=2.0 in /usr/local/lib/python3.11/dist-packages (from jinja2->torch) (3.0.2)\n",
            "Downloading stockfish-3.28.0-py3-none-any.whl (13 kB)\n",
            "Installing collected packages: stockfish\n",
            "Successfully installed stockfish-3.28.0\n"
          ]
        }
      ],
      "source": [
        "# Install necessary packages\n",
        "!pip install python-chess stockfish torch"
      ]
    },
    {
      "cell_type": "code",
      "source": [
        "# Download Stockfish binary if not available\n",
        "!apt-get install -y stockfish\n",
        "\n",
        "# Confirm stockfish is installed\n",
        "!stockfish"
      ],
      "metadata": {
        "colab": {
          "base_uri": "https://localhost:8080/"
        },
        "id": "7DObH26ka-qz",
        "outputId": "2afc6d6f-dff5-4e2b-a543-fba7d087a9f7"
      },
      "execution_count": 4,
      "outputs": [
        {
          "output_type": "stream",
          "name": "stdout",
          "text": [
            "Reading package lists... Done\n",
            "Building dependency tree... Done\n",
            "Reading state information... Done\n",
            "Suggested packages:\n",
            "  polyglot xboard | scid\n",
            "The following NEW packages will be installed:\n",
            "  stockfish\n",
            "0 upgraded, 1 newly installed, 0 to remove and 34 not upgraded.\n",
            "Need to get 24.8 MB of archives.\n",
            "After this operation, 47.4 MB of additional disk space will be used.\n",
            "Get:1 http://archive.ubuntu.com/ubuntu jammy/universe amd64 stockfish amd64 14.1-1 [24.8 MB]\n",
            "Fetched 24.8 MB in 1s (19.2 MB/s)\n",
            "Selecting previously unselected package stockfish.\n",
            "(Reading database ... 126333 files and directories currently installed.)\n",
            "Preparing to unpack .../stockfish_14.1-1_amd64.deb ...\n",
            "Unpacking stockfish (14.1-1) ...\n",
            "Setting up stockfish (14.1-1) ...\n",
            "Processing triggers for man-db (2.10.2-1) ...\n",
            "/bin/bash: line 1: stockfish: command not found\n"
          ]
        }
      ]
    },
    {
      "cell_type": "code",
      "source": [
        "import chess\n",
        "import chess.pgn\n",
        "from stockfish import Stockfish\n",
        "import torch\n",
        "import torch.nn as nn\n",
        "import torch.nn.functional as F\n",
        "import torch.optim as optim\n",
        "import random\n",
        "import pickle\n",
        "import os\n",
        "\n",
        "# Paths\n",
        "STOCKFISH_PATH = \"/usr/games/stockfish\"\n",
        "\n",
        "# Constants\n",
        "FEATURES_PER_PIECE = 81  # 9x9 king-centered\n",
        "NUM_PIECE_TYPES = 6      # pawn, knight, bishop, rook, queen, king\n",
        "COLOR_MULTIPLIER = 2     # white/black\n",
        "INPUT_SIZE = FEATURES_PER_PIECE * NUM_PIECE_TYPES * COLOR_MULTIPLIER * 2  # White King + Black King\n",
        "\n",
        "# Stockfish setup\n",
        "stockfish = Stockfish(path=STOCKFISH_PATH, parameters={\"Threads\": 2, \"Hash\": 128})"
      ],
      "metadata": {
        "id": "7ZWyHCu9cEKN"
      },
      "execution_count": 5,
      "outputs": []
    },
    {
      "cell_type": "code",
      "source": [
        "def improved_relative_square(king_square, square):\n",
        "    king_file = chess.square_file(king_square)\n",
        "    king_rank = chess.square_rank(king_square)\n",
        "    sq_file = chess.square_file(square)\n",
        "    sq_rank = chess.square_rank(square)\n",
        "\n",
        "    df = sq_file - king_file + 4\n",
        "    dr = sq_rank - king_rank + 4\n",
        "    if 0 <= df <= 8 and 0 <= dr <= 8:\n",
        "        return dr * 9 + df\n",
        "    else:\n",
        "        return None\n",
        "\n",
        "def improved_extract_features(board):\n",
        "    features = torch.zeros(INPUT_SIZE)\n",
        "    white_king = board.king(chess.WHITE)\n",
        "    black_king = board.king(chess.BLACK)\n",
        "\n",
        "    for square in chess.SQUARES:\n",
        "        piece = board.piece_at(square)\n",
        "        if piece:\n",
        "            piece_type = piece.piece_type - 1\n",
        "            color_offset = 0 if piece.color == chess.WHITE else NUM_PIECE_TYPES\n",
        "\n",
        "            if piece.color == chess.WHITE and white_king is not None:\n",
        "                rel = improved_relative_square(white_king, square)\n",
        "                if rel is not None:\n",
        "                    idx = piece_type * 81 + rel + color_offset * 81\n",
        "                    features[idx] = 1\n",
        "            elif piece.color == chess.BLACK and black_king is not None:\n",
        "                rel = improved_relative_square(black_king, square)\n",
        "                if rel is not None:\n",
        "                    idx = (NUM_PIECE_TYPES * COLOR_MULTIPLIER) * 81 + piece_type * 81 + rel + color_offset * 81\n",
        "                    features[idx] = 1\n",
        "    return features"
      ],
      "metadata": {
        "id": "70iHVYDPcJwi"
      },
      "execution_count": 6,
      "outputs": []
    },
    {
      "cell_type": "code",
      "source": [
        "class SimpleNNUE(nn.Module):\n",
        "    def __init__(self):\n",
        "        super(SimpleNNUE, self).__init__()\n",
        "        self.fc1 = nn.Linear(INPUT_SIZE, 512)\n",
        "        self.fc2 = nn.Linear(512, 32)\n",
        "        self.fc3 = nn.Linear(32, 1)\n",
        "\n",
        "    def forward(self, x):\n",
        "        x = F.relu(self.fc1(x))\n",
        "        x = F.relu(self.fc2(x))\n",
        "        x = self.fc3(x)\n",
        "        return x\n"
      ],
      "metadata": {
        "id": "WDm4WzDJcQB1"
      },
      "execution_count": 7,
      "outputs": []
    },
    {
      "cell_type": "code",
      "source": [
        "def random_board():\n",
        "    board = chess.Board()\n",
        "    moves = random.randint(5, 30)\n",
        "    for _ in range(moves):\n",
        "        if board.is_game_over():\n",
        "            break\n",
        "        move = random.choice(list(board.legal_moves))\n",
        "        board.push(move)\n",
        "    return board\n",
        "\n",
        "def generate_dataset(num_positions=500):\n",
        "    data = []\n",
        "    for i in range(num_positions):\n",
        "        board = random_board()\n",
        "        stockfish.set_fen_position(board.fen())\n",
        "        eval_cp = stockfish.get_evaluation()\n",
        "\n",
        "        if eval_cp['type'] == 'cp':\n",
        "            score = eval_cp['value'] / 100.0  # centipawn to pawn units\n",
        "        else:\n",
        "            continue  # Skip mate scores\n",
        "\n",
        "        data.append((board.fen(), score))\n",
        "\n",
        "        if i % 100 == 0:\n",
        "            print(f\"Generated {i} positions\")\n",
        "\n",
        "    with open(\"training_data.pkl\", \"wb\") as f:\n",
        "        pickle.dump(data, f)\n",
        "\n",
        "# Generate 5000 positions (adjust if needed to fit memory)\n",
        "generate_dataset(5000)\n"
      ],
      "metadata": {
        "colab": {
          "base_uri": "https://localhost:8080/"
        },
        "id": "zTaWoM1rcTVx",
        "outputId": "2f5146e4-864e-448c-f665-e74d87996efd"
      },
      "execution_count": null,
      "outputs": [
        {
          "output_type": "stream",
          "name": "stdout",
          "text": [
            "Generated 0 positions\n",
            "Generated 100 positions\n",
            "Generated 200 positions\n",
            "Generated 300 positions\n",
            "Generated 400 positions\n",
            "Generated 500 positions\n",
            "Generated 600 positions\n"
          ]
        }
      ]
    },
    {
      "cell_type": "code",
      "source": [
        "# Load dataset\n",
        "with open(\"training_data.pkl\", \"rb\") as f:\n",
        "    dataset = pickle.load(f)\n",
        "\n",
        "model = SimpleNNUE()\n",
        "optimizer = optim.Adam(model.parameters(), lr=0.001)\n",
        "loss_fn = nn.MSELoss()\n",
        "\n",
        "# Move model to GPU if available\n",
        "device = torch.device(\"cuda\" if torch.cuda.is_available() else \"cpu\")\n",
        "model.to(device)\n",
        "\n",
        "# Training loop\n",
        "for epoch in range(10):\n",
        "    total_loss = 0\n",
        "    random.shuffle(dataset)\n",
        "\n",
        "    for fen, score in dataset:\n",
        "        board = chess.Board(fen)\n",
        "        features = improved_extract_features(board).to(device)\n",
        "        pred = model(features)\n",
        "        target = torch.tensor([score], dtype=torch.float32).to(device)\n",
        "\n",
        "        loss = loss_fn(pred, target)\n",
        "        optimizer.zero_grad()\n",
        "        loss.backward()\n",
        "        optimizer.step()\n",
        "\n",
        "        total_loss += loss.item()\n",
        "\n",
        "    print(f\"Epoch {epoch+1} Loss: {total_loss/len(dataset)}\")\n",
        "\n",
        "# Save trained model\n",
        "torch.save(model.state_dict(), \"nnue_trained.pth\")"
      ],
      "metadata": {
        "id": "MXvVOMPYcqNK"
      },
      "execution_count": null,
      "outputs": []
    },
    {
      "cell_type": "code",
      "source": [
        "# Load trained model\n",
        "model = SimpleNNUE()\n",
        "model.load_state_dict(torch.load(\"nnue_trained.pth\", map_location=device))\n",
        "model.eval()\n",
        "\n",
        "def evaluate_board(board):\n",
        "    features = improved_extract_features(board).to(device)\n",
        "    with torch.no_grad():\n",
        "        eval_score = model(features)\n",
        "    return eval_score.item()\n",
        "\n",
        "# Example usage\n",
        "board = chess.Board()\n",
        "print(\"Starting position evaluation:\", evaluate_board(board))\n",
        "\n",
        "board.push_san(\"e4\")\n",
        "print(\"After 1. e4 evaluation:\", evaluate_board(board))\n",
        "\n",
        "board.push_san(\"e5\")\n",
        "print(\"After 1... e5 evaluation:\", evaluate_board(board))\n"
      ],
      "metadata": {
        "id": "IzakKtircvFX"
      },
      "execution_count": null,
      "outputs": []
    }
  ]
}